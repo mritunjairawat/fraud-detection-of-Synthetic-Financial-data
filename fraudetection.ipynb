{
 "cells": [
  {
   "cell_type": "code",
   "execution_count": 1,
   "id": "bba97c84",
   "metadata": {
    "execution": {
     "iopub.execute_input": "2022-05-13T10:15:31.106998Z",
     "iopub.status.busy": "2022-05-13T10:15:31.106243Z",
     "iopub.status.idle": "2022-05-13T10:15:37.689769Z",
     "shell.execute_reply": "2022-05-13T10:15:37.688635Z"
    },
    "papermill": {
     "duration": 6.612811,
     "end_time": "2022-05-13T10:15:37.692767",
     "exception": false,
     "start_time": "2022-05-13T10:15:31.079956",
     "status": "completed"
    },
    "tags": []
   },
   "outputs": [],
   "source": [
    "import numpy as np\n",
    "import pandas as pd\n",
    "from sklearn import preprocessing\n",
    "from sklearn.preprocessing import StandardScaler\n",
    "import matplotlib.pyplot as plt\n",
    "import seaborn as sns\n",
    "from sklearn import metrics\n",
    "from sklearn.metrics import confusion_matrix\n",
    "from keras.models import Sequential\n",
    "from keras.layers import Dense, Activation, Dropout\n",
    "from keras.models import load_model"
   ]
  },
  {
   "cell_type": "markdown",
   "id": "db1346e7",
   "metadata": {
    "papermill": {
     "duration": 0.017423,
     "end_time": "2022-05-13T10:15:37.729048",
     "exception": false,
     "start_time": "2022-05-13T10:15:37.711625",
     "status": "completed"
    },
    "tags": []
   },
   "source": [
    "# Importing data (taking variables type,amount,old balance,new balance,is fraud for the prediction of the fraud)"
   ]
  },
  {
   "cell_type": "code",
   "execution_count": 2,
   "id": "14343650",
   "metadata": {
    "execution": {
     "iopub.execute_input": "2022-05-13T10:15:37.765668Z",
     "iopub.status.busy": "2022-05-13T10:15:37.764999Z",
     "iopub.status.idle": "2022-05-13T10:15:58.266079Z",
     "shell.execute_reply": "2022-05-13T10:15:58.265276Z"
    },
    "papermill": {
     "duration": 20.522404,
     "end_time": "2022-05-13T10:15:58.268889",
     "exception": false,
     "start_time": "2022-05-13T10:15:37.746485",
     "status": "completed"
    },
    "tags": []
   },
   "outputs": [
    {
     "data": {
      "text/html": [
       "<div>\n",
       "<style scoped>\n",
       "    .dataframe tbody tr th:only-of-type {\n",
       "        vertical-align: middle;\n",
       "    }\n",
       "\n",
       "    .dataframe tbody tr th {\n",
       "        vertical-align: top;\n",
       "    }\n",
       "\n",
       "    .dataframe thead th {\n",
       "        text-align: right;\n",
       "    }\n",
       "</style>\n",
       "<table border=\"1\" class=\"dataframe\">\n",
       "  <thead>\n",
       "    <tr style=\"text-align: right;\">\n",
       "      <th></th>\n",
       "      <th>step</th>\n",
       "      <th>type</th>\n",
       "      <th>amount</th>\n",
       "      <th>nameOrig</th>\n",
       "      <th>oldbalanceOrg</th>\n",
       "      <th>newbalanceOrig</th>\n",
       "      <th>nameDest</th>\n",
       "      <th>oldbalanceDest</th>\n",
       "      <th>newbalanceDest</th>\n",
       "      <th>isFraud</th>\n",
       "      <th>isFlaggedFraud</th>\n",
       "    </tr>\n",
       "  </thead>\n",
       "  <tbody>\n",
       "    <tr>\n",
       "      <th>0</th>\n",
       "      <td>1</td>\n",
       "      <td>PAYMENT</td>\n",
       "      <td>9839.64</td>\n",
       "      <td>C1231006815</td>\n",
       "      <td>170136.0</td>\n",
       "      <td>160296.36</td>\n",
       "      <td>M1979787155</td>\n",
       "      <td>0.0</td>\n",
       "      <td>0.0</td>\n",
       "      <td>0</td>\n",
       "      <td>0</td>\n",
       "    </tr>\n",
       "    <tr>\n",
       "      <th>1</th>\n",
       "      <td>1</td>\n",
       "      <td>PAYMENT</td>\n",
       "      <td>1864.28</td>\n",
       "      <td>C1666544295</td>\n",
       "      <td>21249.0</td>\n",
       "      <td>19384.72</td>\n",
       "      <td>M2044282225</td>\n",
       "      <td>0.0</td>\n",
       "      <td>0.0</td>\n",
       "      <td>0</td>\n",
       "      <td>0</td>\n",
       "    </tr>\n",
       "    <tr>\n",
       "      <th>2</th>\n",
       "      <td>1</td>\n",
       "      <td>TRANSFER</td>\n",
       "      <td>181.00</td>\n",
       "      <td>C1305486145</td>\n",
       "      <td>181.0</td>\n",
       "      <td>0.00</td>\n",
       "      <td>C553264065</td>\n",
       "      <td>0.0</td>\n",
       "      <td>0.0</td>\n",
       "      <td>1</td>\n",
       "      <td>0</td>\n",
       "    </tr>\n",
       "    <tr>\n",
       "      <th>3</th>\n",
       "      <td>1</td>\n",
       "      <td>CASH_OUT</td>\n",
       "      <td>181.00</td>\n",
       "      <td>C840083671</td>\n",
       "      <td>181.0</td>\n",
       "      <td>0.00</td>\n",
       "      <td>C38997010</td>\n",
       "      <td>21182.0</td>\n",
       "      <td>0.0</td>\n",
       "      <td>1</td>\n",
       "      <td>0</td>\n",
       "    </tr>\n",
       "    <tr>\n",
       "      <th>4</th>\n",
       "      <td>1</td>\n",
       "      <td>PAYMENT</td>\n",
       "      <td>11668.14</td>\n",
       "      <td>C2048537720</td>\n",
       "      <td>41554.0</td>\n",
       "      <td>29885.86</td>\n",
       "      <td>M1230701703</td>\n",
       "      <td>0.0</td>\n",
       "      <td>0.0</td>\n",
       "      <td>0</td>\n",
       "      <td>0</td>\n",
       "    </tr>\n",
       "  </tbody>\n",
       "</table>\n",
       "</div>"
      ],
      "text/plain": [
       "   step      type    amount     nameOrig  oldbalanceOrg  newbalanceOrig  \\\n",
       "0     1   PAYMENT   9839.64  C1231006815       170136.0       160296.36   \n",
       "1     1   PAYMENT   1864.28  C1666544295        21249.0        19384.72   \n",
       "2     1  TRANSFER    181.00  C1305486145          181.0            0.00   \n",
       "3     1  CASH_OUT    181.00   C840083671          181.0            0.00   \n",
       "4     1   PAYMENT  11668.14  C2048537720        41554.0        29885.86   \n",
       "\n",
       "      nameDest  oldbalanceDest  newbalanceDest  isFraud  isFlaggedFraud  \n",
       "0  M1979787155             0.0             0.0        0               0  \n",
       "1  M2044282225             0.0             0.0        0               0  \n",
       "2   C553264065             0.0             0.0        1               0  \n",
       "3    C38997010         21182.0             0.0        1               0  \n",
       "4  M1230701703             0.0             0.0        0               0  "
      ]
     },
     "execution_count": 2,
     "metadata": {},
     "output_type": "execute_result"
    }
   ],
   "source": [
    "dataframe= pd.read_csv(\"../input/paysim1/PS_20174392719_1491204439457_log.csv\")\n",
    "dataframe.head()"
   ]
  },
  {
   "cell_type": "markdown",
   "id": "22bc68a7",
   "metadata": {
    "papermill": {
     "duration": 0.017965,
     "end_time": "2022-05-13T10:15:58.306358",
     "exception": false,
     "start_time": "2022-05-13T10:15:58.288393",
     "status": "completed"
    },
    "tags": []
   },
   "source": [
    "# Cleaning and analyzing data\n"
   ]
  },
  {
   "cell_type": "code",
   "execution_count": 3,
   "id": "cba95b5c",
   "metadata": {
    "execution": {
     "iopub.execute_input": "2022-05-13T10:15:58.344129Z",
     "iopub.status.busy": "2022-05-13T10:15:58.343833Z",
     "iopub.status.idle": "2022-05-13T10:16:00.166316Z",
     "shell.execute_reply": "2022-05-13T10:16:00.165465Z"
    },
    "papermill": {
     "duration": 1.844091,
     "end_time": "2022-05-13T10:16:00.168818",
     "exception": false,
     "start_time": "2022-05-13T10:15:58.324727",
     "status": "completed"
    },
    "tags": []
   },
   "outputs": [
    {
     "data": {
      "image/png": "[encoded data removed]",
      "text/plain": [
       "<Figure size 432x288 with 2 Axes>"
      ]
     },
     "metadata": {
      "needs_background": "light"
     },
     "output_type": "display_data"
    }
   ],
   "source": [
    "\n",
    "corr=dataframe.corr()\n",
    "ax=sns.heatmap(corr, vmin=-1, vmax=1, center=0,square=True, cmap='YlGnBu')"
   ]
  },
  {
   "cell_type": "code",
   "execution_count": 4,
   "id": "52e4ab0f",
   "metadata": {
    "execution": {
     "iopub.execute_input": "2022-05-13T10:16:00.210581Z",
     "iopub.status.busy": "2022-05-13T10:16:00.210010Z",
     "iopub.status.idle": "2022-05-13T10:16:00.229411Z",
     "shell.execute_reply": "2022-05-13T10:16:00.227982Z"
    },
    "papermill": {
     "duration": 0.043542,
     "end_time": "2022-05-13T10:16:00.232273",
     "exception": false,
     "start_time": "2022-05-13T10:16:00.188731",
     "status": "completed"
    },
    "tags": []
   },
   "outputs": [
    {
     "name": "stdout",
     "output_type": "stream",
     "text": [
      "<class 'pandas.core.frame.DataFrame'>\n",
      "RangeIndex: 6362620 entries, 0 to 6362619\n",
      "Data columns (total 11 columns):\n",
      " #   Column          Dtype  \n",
      "---  ------          -----  \n",
      " 0   step            int64  \n",
      " 1   type            object \n",
      " 2   amount          float64\n",
      " 3   nameOrig        object \n",
      " 4   oldbalanceOrg   float64\n",
      " 5   newbalanceOrig  float64\n",
      " 6   nameDest        object \n",
      " 7   oldbalanceDest  float64\n",
      " 8   newbalanceDest  float64\n",
      " 9   isFraud         int64  \n",
      " 10  isFlaggedFraud  int64  \n",
      "dtypes: float64(5), int64(3), object(3)\n",
      "memory usage: 534.0+ MB\n"
     ]
    }
   ],
   "source": [
    "dataframe.info()"
   ]
  },
  {
   "cell_type": "markdown",
   "id": "055c9589",
   "metadata": {
    "papermill": {
     "duration": 0.020012,
     "end_time": "2022-05-13T10:16:00.272322",
     "exception": false,
     "start_time": "2022-05-13T10:16:00.252310",
     "status": "completed"
    },
    "tags": []
   },
   "source": [
    "## Deleting unwanted Variables"
   ]
  },
  {
   "cell_type": "code",
   "execution_count": 5,
   "id": "2af14233",
   "metadata": {
    "execution": {
     "iopub.execute_input": "2022-05-13T10:16:00.314694Z",
     "iopub.status.busy": "2022-05-13T10:16:00.313916Z",
     "iopub.status.idle": "2022-05-13T10:16:00.319136Z",
     "shell.execute_reply": "2022-05-13T10:16:00.318441Z"
    },
    "papermill": {
     "duration": 0.028185,
     "end_time": "2022-05-13T10:16:00.321069",
     "exception": false,
     "start_time": "2022-05-13T10:16:00.292884",
     "status": "completed"
    },
    "tags": []
   },
   "outputs": [],
   "source": [
    "######################################33\n",
    "# variable shows no corelation to the fraud happening.\n",
    "del dataframe['nameDest']\n",
    "del dataframe['nameOrig']\n",
    "del dataframe['isFlaggedFraud']"
   ]
  },
  {
   "cell_type": "code",
   "execution_count": 6,
   "id": "3589a87a",
   "metadata": {
    "execution": {
     "iopub.execute_input": "2022-05-13T10:16:00.362803Z",
     "iopub.status.busy": "2022-05-13T10:16:00.362348Z",
     "iopub.status.idle": "2022-05-13T10:16:00.374704Z",
     "shell.execute_reply": "2022-05-13T10:16:00.374171Z"
    },
    "jupyter": {
     "source_hidden": true
    },
    "papermill": {
     "duration": 0.035602,
     "end_time": "2022-05-13T10:16:00.376414",
     "exception": false,
     "start_time": "2022-05-13T10:16:00.340812",
     "status": "completed"
    },
    "tags": []
   },
   "outputs": [
    {
     "data": {
      "text/html": [
       "<div>\n",
       "<style scoped>\n",
       "    .dataframe tbody tr th:only-of-type {\n",
       "        vertical-align: middle;\n",
       "    }\n",
       "\n",
       "    .dataframe tbody tr th {\n",
       "        vertical-align: top;\n",
       "    }\n",
       "\n",
       "    .dataframe thead th {\n",
       "        text-align: right;\n",
       "    }\n",
       "</style>\n",
       "<table border=\"1\" class=\"dataframe\">\n",
       "  <thead>\n",
       "    <tr style=\"text-align: right;\">\n",
       "      <th></th>\n",
       "      <th>step</th>\n",
       "      <th>type</th>\n",
       "      <th>amount</th>\n",
       "      <th>oldbalanceOrg</th>\n",
       "      <th>newbalanceOrig</th>\n",
       "      <th>oldbalanceDest</th>\n",
       "      <th>newbalanceDest</th>\n",
       "      <th>isFraud</th>\n",
       "    </tr>\n",
       "  </thead>\n",
       "  <tbody>\n",
       "    <tr>\n",
       "      <th>0</th>\n",
       "      <td>1</td>\n",
       "      <td>PAYMENT</td>\n",
       "      <td>9839.64</td>\n",
       "      <td>170136.0</td>\n",
       "      <td>160296.36</td>\n",
       "      <td>0.0</td>\n",
       "      <td>0.0</td>\n",
       "      <td>0</td>\n",
       "    </tr>\n",
       "    <tr>\n",
       "      <th>1</th>\n",
       "      <td>1</td>\n",
       "      <td>PAYMENT</td>\n",
       "      <td>1864.28</td>\n",
       "      <td>21249.0</td>\n",
       "      <td>19384.72</td>\n",
       "      <td>0.0</td>\n",
       "      <td>0.0</td>\n",
       "      <td>0</td>\n",
       "    </tr>\n",
       "  </tbody>\n",
       "</table>\n",
       "</div>"
      ],
      "text/plain": [
       "   step     type   amount  oldbalanceOrg  newbalanceOrig  oldbalanceDest  \\\n",
       "0     1  PAYMENT  9839.64       170136.0       160296.36             0.0   \n",
       "1     1  PAYMENT  1864.28        21249.0        19384.72             0.0   \n",
       "\n",
       "   newbalanceDest  isFraud  \n",
       "0             0.0        0  \n",
       "1             0.0        0  "
      ]
     },
     "execution_count": 6,
     "metadata": {},
     "output_type": "execute_result"
    }
   ],
   "source": [
    "dataframe1=dataframe[0:-1]\n",
    "dataframe1.head(2)"
   ]
  },
  {
   "cell_type": "code",
   "execution_count": 7,
   "id": "14131f57",
   "metadata": {
    "execution": {
     "iopub.execute_input": "2022-05-13T10:16:00.418054Z",
     "iopub.status.busy": "2022-05-13T10:16:00.417575Z",
     "iopub.status.idle": "2022-05-13T10:16:00.446703Z",
     "shell.execute_reply": "2022-05-13T10:16:00.446108Z"
    },
    "papermill": {
     "duration": 0.052263,
     "end_time": "2022-05-13T10:16:00.448768",
     "exception": false,
     "start_time": "2022-05-13T10:16:00.396505",
     "status": "completed"
    },
    "tags": []
   },
   "outputs": [],
   "source": [
    "cnt0=(dataframe['isFraud']==0).sum()\n",
    "cnt1=(dataframe['isFraud']==1).sum()"
   ]
  },
  {
   "cell_type": "markdown",
   "id": "aba6b3da",
   "metadata": {
    "papermill": {
     "duration": 0.019789,
     "end_time": "2022-05-13T10:16:00.488721",
     "exception": false,
     "start_time": "2022-05-13T10:16:00.468932",
     "status": "completed"
    },
    "tags": []
   },
   "source": [
    "# PreProcessing"
   ]
  },
  {
   "cell_type": "code",
   "execution_count": 8,
   "id": "80d3f43b",
   "metadata": {
    "execution": {
     "iopub.execute_input": "2022-05-13T10:16:00.531004Z",
     "iopub.status.busy": "2022-05-13T10:16:00.530511Z",
     "iopub.status.idle": "2022-05-13T10:16:04.706740Z",
     "shell.execute_reply": "2022-05-13T10:16:04.705959Z"
    },
    "papermill": {
     "duration": 4.200381,
     "end_time": "2022-05-13T10:16:04.709181",
     "exception": false,
     "start_time": "2022-05-13T10:16:00.508800",
     "status": "completed"
    },
    "tags": []
   },
   "outputs": [
    {
     "name": "stderr",
     "output_type": "stream",
     "text": [
      "/opt/conda/lib/python3.7/site-packages/ipykernel_launcher.py:2: SettingWithCopyWarning: \n",
      "A value is trying to be set on a copy of a slice from a DataFrame.\n",
      "Try using .loc[row_indexer,col_indexer] = value instead\n",
      "\n",
      "See the caveats in the documentation: https://pandas.pydata.org/pandas-docs/stable/user_guide/indexing.html#returning-a-view-versus-a-copy\n",
      "  \n"
     ]
    }
   ],
   "source": [
    "le=preprocessing.LabelEncoder()\n",
    "dataframe1['type2']=le.fit_transform(dataframe1['type'])\n",
    "del dataframe1['type']\n",
    "shuffled_df=dataframe1.sample(frac=1,random_state=4)\n",
    "fraud_df=shuffled_df.loc[shuffled_df['isFraud']==1]\n",
    "non_fraud_df=shuffled_df.loc[shuffled_df['isFraud']==0].sample(8212,random_state=4)\n",
    "normalized=pd.concat([fraud_df,non_fraud_df])"
   ]
  },
  {
   "cell_type": "code",
   "execution_count": 9,
   "id": "c85835d3",
   "metadata": {
    "execution": {
     "iopub.execute_input": "2022-05-13T10:16:04.752730Z",
     "iopub.status.busy": "2022-05-13T10:16:04.752230Z",
     "iopub.status.idle": "2022-05-13T10:16:04.784684Z",
     "shell.execute_reply": "2022-05-13T10:16:04.784087Z"
    },
    "papermill": {
     "duration": 0.057058,
     "end_time": "2022-05-13T10:16:04.787109",
     "exception": false,
     "start_time": "2022-05-13T10:16:04.730051",
     "status": "completed"
    },
    "tags": []
   },
   "outputs": [],
   "source": [
    "normalized1=normalized.sample(frac=1, random_state=4)\n",
    "X=normalized1.drop(['isFraud'], axis=1)\n",
    "Y=normalized1['isFraud']\n",
    "y3=Y.values.reshape(-1,1)\n",
    "st_sc = StandardScaler()\n",
    "X = st_sc.fit_transform(X)\n",
    "from sklearn.preprocessing import OneHotEncoder\n",
    "ohe=OneHotEncoder()\n",
    "Y1=ohe.fit_transform(y3).toarray()\n",
    "\n",
    "#############################################################\n",
    "###       TRAIN TEST SPLIT\n",
    "###############################################################\n",
    "from sklearn.model_selection  import train_test_split\n",
    "x_train, x_test, y_train,y_test=train_test_split(X,Y1, test_size=0.2, random_state=1)"
   ]
  },
  {
   "cell_type": "markdown",
   "id": "6f5ef319",
   "metadata": {
    "papermill": {
     "duration": 0.020485,
     "end_time": "2022-05-13T10:16:04.828532",
     "exception": false,
     "start_time": "2022-05-13T10:16:04.808047",
     "status": "completed"
    },
    "tags": []
   },
   "source": [
    "## MODEL CREATION (Using Sequential Model)"
   ]
  },
  {
   "cell_type": "code",
   "execution_count": 10,
   "id": "69657631",
   "metadata": {
    "execution": {
     "iopub.execute_input": "2022-05-13T10:16:04.873720Z",
     "iopub.status.busy": "2022-05-13T10:16:04.873034Z",
     "iopub.status.idle": "2022-05-13T10:16:05.013394Z",
     "shell.execute_reply": "2022-05-13T10:16:05.012833Z"
    },
    "papermill": {
     "duration": 0.16552,
     "end_time": "2022-05-13T10:16:05.016887",
     "exception": false,
     "start_time": "2022-05-13T10:16:04.851367",
     "status": "completed"
    },
    "tags": []
   },
   "outputs": [
    {
     "name": "stdout",
     "output_type": "stream",
     "text": [
      "Model: \"sequential\"\n",
      "_________________________________________________________________\n",
      "Layer (type)                 Output Shape              Param #   \n",
      "=================================================================\n",
      "dense (Dense)                (None, 64)                512       \n",
      "_________________________________________________________________\n",
      "dense_1 (Dense)              (None, 32)                2080      \n",
      "_________________________________________________________________\n",
      "dense_2 (Dense)              (None, 64)                2112      \n",
      "_________________________________________________________________\n",
      "dense_3 (Dense)              (None, 128)               8320      \n",
      "_________________________________________________________________\n",
      "dropout (Dropout)            (None, 128)               0         \n",
      "_________________________________________________________________\n",
      "dense_4 (Dense)              (None, 2)                 258       \n",
      "=================================================================\n",
      "Total params: 13,282\n",
      "Trainable params: 13,282\n",
      "Non-trainable params: 0\n",
      "_________________________________________________________________\n"
     ]
    },
    {
     "name": "stderr",
     "output_type": "stream",
     "text": [
      "2022-05-13 10:16:04.907867: I tensorflow/core/common_runtime/process_util.cc:146] Creating new thread pool with default inter op setting: 2. Tune using inter_op_parallelism_threads for best performance.\n"
     ]
    }
   ],
   "source": [
    "\n",
    "model = Sequential()\n",
    "model.add(Dense(units = 64, input_dim = 7, activation = \"relu\"))\n",
    "model.add(Dense(units = 32, activation = \"relu\"))\n",
    "model.add(Dense(units = 64, activation = \"relu\"))\n",
    "model.add(Dense(units = 128, activation = \"relu\"))\n",
    "model.add(Dropout(0.3))\n",
    "model.add(Dense(units = 2, activation = \"sigmoid\"))\n",
    "model.compile(optimizer = \"adam\", loss = \"binary_crossentropy\", metrics = [\"accuracy\"])\n",
    "model.summary()"
   ]
  },
  {
   "cell_type": "code",
   "execution_count": 11,
   "id": "ec258fb0",
   "metadata": {
    "execution": {
     "iopub.execute_input": "2022-05-13T10:16:05.062192Z",
     "iopub.status.busy": "2022-05-13T10:16:05.061477Z",
     "iopub.status.idle": "2022-05-13T10:16:09.378721Z",
     "shell.execute_reply": "2022-05-13T10:16:09.377882Z"
    },
    "papermill": {
     "duration": 4.342011,
     "end_time": "2022-05-13T10:16:09.380987",
     "exception": false,
     "start_time": "2022-05-13T10:16:05.038976",
     "status": "completed"
    },
    "tags": []
   },
   "outputs": [
    {
     "name": "stdout",
     "output_type": "stream",
     "text": [
      "Epoch 1/10\n"
     ]
    },
    {
     "name": "stderr",
     "output_type": "stream",
     "text": [
      "2022-05-13 10:16:05.134496: I tensorflow/compiler/mlir/mlir_graph_optimization_pass.cc:185] None of the MLIR Optimization Passes are enabled (registered 2)\n"
     ]
    },
    {
     "name": "stdout",
     "output_type": "stream",
     "text": [
      "103/103 [==============================] - 1s 3ms/step - loss: 0.4381 - accuracy: 0.8256\n",
      "Epoch 2/10\n",
      "103/103 [==============================] - 0s 3ms/step - loss: 0.2212 - accuracy: 0.9075\n",
      "Epoch 3/10\n",
      "103/103 [==============================] - 0s 3ms/step - loss: 0.1702 - accuracy: 0.9310\n",
      "Epoch 4/10\n",
      "103/103 [==============================] - 0s 3ms/step - loss: 0.1434 - accuracy: 0.9416\n",
      "Epoch 5/10\n",
      "103/103 [==============================] - 0s 3ms/step - loss: 0.1232 - accuracy: 0.9505\n",
      "Epoch 6/10\n",
      "103/103 [==============================] - 0s 3ms/step - loss: 0.1323 - accuracy: 0.9516\n",
      "Epoch 7/10\n",
      "103/103 [==============================] - 0s 3ms/step - loss: 0.1127 - accuracy: 0.9572\n",
      "Epoch 8/10\n",
      "103/103 [==============================] - 0s 3ms/step - loss: 0.1067 - accuracy: 0.9604\n",
      "Epoch 9/10\n",
      "103/103 [==============================] - 0s 3ms/step - loss: 0.0960 - accuracy: 0.9648\n",
      "Epoch 10/10\n",
      "103/103 [==============================] - 0s 3ms/step - loss: 0.1086 - accuracy: 0.9594\n"
     ]
    },
    {
     "data": {
      "text/plain": [
       "<keras.callbacks.History at 0x7f45dd4221d0>"
      ]
     },
     "execution_count": 11,
     "metadata": {},
     "output_type": "execute_result"
    }
   ],
   "source": [
    "model.fit(x_train, y_train, batch_size = 128, epochs = 10, verbose=1)"
   ]
  },
  {
   "cell_type": "markdown",
   "id": "2d7d6473",
   "metadata": {
    "papermill": {
     "duration": 0.052347,
     "end_time": "2022-05-13T10:16:09.487198",
     "exception": false,
     "start_time": "2022-05-13T10:16:09.434851",
     "status": "completed"
    },
    "tags": []
   },
   "source": [
    "## Model Evaluation\n"
   ]
  },
  {
   "cell_type": "code",
   "execution_count": 12,
   "id": "d7a00c27",
   "metadata": {
    "execution": {
     "iopub.execute_input": "2022-05-13T10:16:09.594550Z",
     "iopub.status.busy": "2022-05-13T10:16:09.593824Z",
     "iopub.status.idle": "2022-05-13T10:16:10.001696Z",
     "shell.execute_reply": "2022-05-13T10:16:10.000457Z"
    },
    "papermill": {
     "duration": 0.464682,
     "end_time": "2022-05-13T10:16:10.004448",
     "exception": false,
     "start_time": "2022-05-13T10:16:09.539766",
     "status": "completed"
    },
    "tags": []
   },
   "outputs": [
    {
     "name": "stdout",
     "output_type": "stream",
     "text": [
      "103/103 [==============================] - 0s 2ms/step - loss: 0.0958 - accuracy: 0.9635\n",
      "0.9634703397750854\n"
     ]
    }
   ],
   "source": [
    "score = model.evaluate(x_test, y_test)\n",
    "print(score[1])"
   ]
  },
  {
   "cell_type": "code",
   "execution_count": 13,
   "id": "96e9e679",
   "metadata": {
    "execution": {
     "iopub.execute_input": "2022-05-13T10:16:10.118568Z",
     "iopub.status.busy": "2022-05-13T10:16:10.117755Z",
     "iopub.status.idle": "2022-05-13T10:16:11.432591Z",
     "shell.execute_reply": "2022-05-13T10:16:11.431848Z"
    },
    "papermill": {
     "duration": 1.375929,
     "end_time": "2022-05-13T10:16:11.436740",
     "exception": false,
     "start_time": "2022-05-13T10:16:10.060811",
     "status": "completed"
    },
    "tags": []
   },
   "outputs": [
    {
     "name": "stderr",
     "output_type": "stream",
     "text": [
      "2022-05-13 10:16:10.474374: W tensorflow/python/util/util.cc:348] Sets are not currently considered sequences, but this may change in the future, so consider avoiding using them.\n"
     ]
    }
   ],
   "source": [
    "model.save(\"fraud.md5\")"
   ]
  }
 ],
 "metadata": {
  "kernelspec": {
   "display_name": "Python 3",
   "language": "python",
   "name": "python3"
  },
  "language_info": {
   "codemirror_mode": {
    "name": "ipython",
    "version": 3
   },
   "file_extension": ".py",
   "mimetype": "text/x-python",
   "name": "python",
   "nbconvert_exporter": "python",
   "pygments_lexer": "ipython3",
   "version": "3.7.12"
  },
  "papermill": {
   "default_parameters": {},
   "duration": 52.506993,
   "end_time": "2022-05-13T10:16:14.299104",
   "environment_variables": {},
   "exception": null,
   "input_path": "__notebook__.ipynb",
   "output_path": "__notebook__.ipynb",
   "parameters": {},
   "start_time": "2022-05-13T10:15:21.792111",
   "version": "2.3.4"
  }
 },
 "nbformat": 4,
 "nbformat_minor": 5
}
